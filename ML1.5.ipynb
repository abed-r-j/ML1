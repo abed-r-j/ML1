{
 "cells": [
  {
   "cell_type": "markdown",
   "id": "53c779ff",
   "metadata": {
    "papermill": {
     "duration": 0.007455,
     "end_time": "2022-11-12T08:11:22.224294",
     "exception": false,
     "start_time": "2022-11-12T08:11:22.216839",
     "status": "completed"
    },
    "tags": []
   },
   "source": [
    "Probability of some patients having a heart attack.\n",
    "# Loading packages and data"
   ]
  },
  {
   "cell_type": "code",
   "execution_count": null,
   "id": "3bf626d8",
   "metadata": {
    "_cell_guid": "b1076dfc-b9ad-4769-8c92-a6c4dae69d19",
    "_uuid": "8f2839f25d086af736a60e9eeb907d3b93b6e0e5",
    "execution": {
     "iopub.execute_input": "2022-11-12T08:11:22.238873Z",
     "iopub.status.busy": "2022-11-12T08:11:22.238192Z",
     "iopub.status.idle": "2022-11-12T08:11:31.752885Z",
     "shell.execute_reply": "2022-11-12T08:11:31.751710Z"
    },
    "papermill": {
     "duration": 9.525808,
     "end_time": "2022-11-12T08:11:31.756227",
     "exception": false,
     "start_time": "2022-11-12T08:11:22.230419",
     "status": "completed"
    },
    "tags": []
   },
   "outputs": [],
   "source": [
    "# It was said:\n",
    "import pandas as pd\n",
    "import numpy as np\n",
    "import matplotlib.pyplot as plt\n",
    "import seaborn as sns\n",
    "from sklearn.model_selection import train_test_split\n",
    "import tensorflow as tf\n",
    "from tensorflow.keras.models import Sequential\n",
    "from tensorflow.keras.layers import Dense\n",
    "import logging\n",
    "logging.getLogger(\"tensorflow\").setLevel(logging.ERROR)\n",
    "tf.autograph.set_verbosity(0)\n",
    "sns.set(rc={'figure.figsize':(11.7,8.27)})\n",
    "# was said."
   ]
  },
  {
   "cell_type": "code",
   "execution_count": null,
   "id": "364a45d2",
   "metadata": {
    "execution": {
     "iopub.execute_input": "2022-11-12T08:11:31.770976Z",
     "iopub.status.busy": "2022-11-12T08:11:31.769458Z",
     "iopub.status.idle": "2022-11-12T08:11:31.794182Z",
     "shell.execute_reply": "2022-11-12T08:11:31.792824Z"
    },
    "papermill": {
     "duration": 0.0354,
     "end_time": "2022-11-12T08:11:31.797638",
     "exception": false,
     "start_time": "2022-11-12T08:11:31.762238",
     "status": "completed"
    },
    "tags": []
   },
   "outputs": [],
   "source": [
    "data = pd.read_csv('ML1.5.csv')"
   ]
  },
  {
   "cell_type": "markdown",
   "id": "32b99490",
   "metadata": {
    "papermill": {
     "duration": 0.005222,
     "end_time": "2022-11-12T08:11:31.808691",
     "exception": false,
     "start_time": "2022-11-12T08:11:31.803469",
     "status": "completed"
    },
    "tags": []
   },
   "source": [
    "# Dataset"
   ]
  },
  {
   "cell_type": "code",
   "execution_count": null,
   "id": "0690ae39",
   "metadata": {
    "execution": {
     "iopub.execute_input": "2022-11-12T08:11:31.821999Z",
     "iopub.status.busy": "2022-11-12T08:11:31.821457Z",
     "iopub.status.idle": "2022-11-12T08:11:31.830883Z",
     "shell.execute_reply": "2022-11-12T08:11:31.829797Z"
    },
    "papermill": {
     "duration": 0.019212,
     "end_time": "2022-11-12T08:11:31.833467",
     "exception": false,
     "start_time": "2022-11-12T08:11:31.814255",
     "status": "completed"
    },
    "tags": []
   },
   "outputs": [],
   "source": [
    "data.shape"
   ]
  },
  {
   "cell_type": "code",
   "execution_count": null,
   "id": "cad59a99",
   "metadata": {
    "execution": {
     "iopub.execute_input": "2022-11-12T08:11:31.847915Z",
     "iopub.status.busy": "2022-11-12T08:11:31.847090Z",
     "iopub.status.idle": "2022-11-12T08:11:31.872721Z",
     "shell.execute_reply": "2022-11-12T08:11:31.871394Z"
    },
    "papermill": {
     "duration": 0.037165,
     "end_time": "2022-11-12T08:11:31.876209",
     "exception": false,
     "start_time": "2022-11-12T08:11:31.839044",
     "status": "completed"
    },
    "tags": []
   },
   "outputs": [],
   "source": [
    "data.head()"
   ]
  },
  {
   "cell_type": "code",
   "execution_count": null,
   "id": "f86aae5d",
   "metadata": {
    "execution": {
     "iopub.execute_input": "2022-11-12T08:11:31.891655Z",
     "iopub.status.busy": "2022-11-12T08:11:31.890262Z",
     "iopub.status.idle": "2022-11-12T08:11:31.960947Z",
     "shell.execute_reply": "2022-11-12T08:11:31.959364Z"
    },
    "papermill": {
     "duration": 0.08136,
     "end_time": "2022-11-12T08:11:31.963965",
     "exception": false,
     "start_time": "2022-11-12T08:11:31.882605",
     "status": "completed"
    },
    "tags": []
   },
   "outputs": [],
   "source": [
    "data.describe()"
   ]
  },
  {
   "cell_type": "code",
   "execution_count": null,
   "id": "1d11e445",
   "metadata": {
    "execution": {
     "iopub.execute_input": "2022-11-12T08:11:31.981408Z",
     "iopub.status.busy": "2022-11-12T08:11:31.980057Z",
     "iopub.status.idle": "2022-11-12T08:11:31.997584Z",
     "shell.execute_reply": "2022-11-12T08:11:31.995735Z"
    },
    "papermill": {
     "duration": 0.030033,
     "end_time": "2022-11-12T08:11:32.000824",
     "exception": false,
     "start_time": "2022-11-12T08:11:31.970791",
     "status": "completed"
    },
    "tags": []
   },
   "outputs": [],
   "source": [
    "print(f'number of duplicate rows: {data.duplicated().sum()}\\nnumber of null values:\\n{data.isna().sum()}')"
   ]
  },
  {
   "cell_type": "code",
   "execution_count": null,
   "id": "d39f5841",
   "metadata": {
    "execution": {
     "iopub.execute_input": "2022-11-12T08:11:32.018198Z",
     "iopub.status.busy": "2022-11-12T08:11:32.017714Z",
     "iopub.status.idle": "2022-11-12T08:11:32.038494Z",
     "shell.execute_reply": "2022-11-12T08:11:32.036620Z"
    },
    "papermill": {
     "duration": 0.034096,
     "end_time": "2022-11-12T08:11:32.041648",
     "exception": false,
     "start_time": "2022-11-12T08:11:32.007552",
     "status": "completed"
    },
    "tags": []
   },
   "outputs": [],
   "source": [
    "data.loc[data.duplicated(), :]"
   ]
  },
  {
   "cell_type": "markdown",
   "id": "f0b04e80",
   "metadata": {
    "papermill": {
     "duration": 0.006812,
     "end_time": "2022-11-12T08:11:32.055253",
     "exception": false,
     "start_time": "2022-11-12T08:11:32.048441",
     "status": "completed"
    },
    "tags": []
   },
   "source": [
    "There is a duplicate row which could be two patients who are really similar or an error in the collection of the original dataset. We don't know which one it is so we are going to keep this row.  \n",
    "## Exploratory Data Analysis(EDA)"
   ]
  },
  {
   "cell_type": "code",
   "execution_count": null,
   "id": "8f2334f7",
   "metadata": {
    "execution": {
     "iopub.execute_input": "2022-11-12T08:11:32.070895Z",
     "iopub.status.busy": "2022-11-12T08:11:32.070416Z",
     "iopub.status.idle": "2022-11-12T08:12:17.014075Z",
     "shell.execute_reply": "2022-11-12T08:12:17.012802Z"
    },
    "papermill": {
     "duration": 44.987109,
     "end_time": "2022-11-12T08:12:17.049177",
     "exception": false,
     "start_time": "2022-11-12T08:11:32.062068",
     "status": "completed"
    },
    "scrolled": false,
    "tags": []
   },
   "outputs": [],
   "source": [
    "sns.pairplot(data)"
   ]
  },
  {
   "cell_type": "code",
   "execution_count": null,
   "id": "801218f7",
   "metadata": {
    "execution": {
     "iopub.execute_input": "2022-11-12T08:12:17.084165Z",
     "iopub.status.busy": "2022-11-12T08:12:17.083687Z",
     "iopub.status.idle": "2022-11-12T08:12:18.544048Z",
     "shell.execute_reply": "2022-11-12T08:12:18.542679Z"
    },
    "papermill": {
     "duration": 1.483072,
     "end_time": "2022-11-12T08:12:18.548571",
     "exception": false,
     "start_time": "2022-11-12T08:12:17.065499",
     "status": "completed"
    },
    "tags": []
   },
   "outputs": [],
   "source": [
    "sns.heatmap(data.corr(),annot=True)"
   ]
  },
  {
   "cell_type": "markdown",
   "id": "951dddfb",
   "metadata": {
    "papermill": {
     "duration": 0.021384,
     "end_time": "2022-11-12T08:12:18.626451",
     "exception": false,
     "start_time": "2022-11-12T08:12:18.605067",
     "status": "completed"
    },
    "tags": []
   },
   "source": [
    "We split dataset into a training and a test dataset."
   ]
  },
  {
   "cell_type": "code",
   "execution_count": null,
   "id": "6ee6feb6",
   "metadata": {
    "execution": {
     "iopub.execute_input": "2022-11-12T08:12:18.675592Z",
     "iopub.status.busy": "2022-11-12T08:12:18.675077Z",
     "iopub.status.idle": "2022-11-12T08:12:18.682539Z",
     "shell.execute_reply": "2022-11-12T08:12:18.681514Z"
    },
    "papermill": {
     "duration": 0.03185,
     "end_time": "2022-11-12T08:12:18.685679",
     "exception": false,
     "start_time": "2022-11-12T08:12:18.653829",
     "status": "completed"
    },
    "tags": []
   },
   "outputs": [],
   "source": [
    "data = data.values\n",
    "X, y = data[:,:-1], data[:,-1]\n",
    "X_train, X_test, y_train, y_test = train_test_split(X, y, test_size=0.2, random_state=0)"
   ]
  },
  {
   "cell_type": "code",
   "execution_count": null,
   "id": "8e9cc19c",
   "metadata": {
    "execution": {
     "iopub.execute_input": "2022-11-12T08:12:18.770934Z",
     "iopub.status.busy": "2022-11-12T08:12:18.770439Z",
     "iopub.status.idle": "2022-11-12T08:12:18.850175Z",
     "shell.execute_reply": "2022-11-12T08:12:18.848949Z"
    },
    "papermill": {
     "duration": 0.105043,
     "end_time": "2022-11-12T08:12:18.853990",
     "exception": false,
     "start_time": "2022-11-12T08:12:18.748947",
     "status": "completed"
    },
    "tags": []
   },
   "outputs": [],
   "source": [
    "tf.random.set_seed(1234)\n",
    "model = Sequential(\n",
    "    [\n",
    "        Dense(12, activation = 'relu'),\n",
    "        Dense(1, activation = 'sigmoid')\n",
    "    ]\n",
    ")"
   ]
  },
  {
   "cell_type": "code",
   "execution_count": null,
   "id": "c8db105c",
   "metadata": {
    "execution": {
     "iopub.execute_input": "2022-11-12T08:12:18.896429Z",
     "iopub.status.busy": "2022-11-12T08:12:18.895561Z",
     "iopub.status.idle": "2022-11-12T08:12:18.924301Z",
     "shell.execute_reply": "2022-11-12T08:12:18.922954Z"
    },
    "papermill": {
     "duration": 0.054256,
     "end_time": "2022-11-12T08:12:18.927700",
     "exception": false,
     "start_time": "2022-11-12T08:12:18.873444",
     "status": "completed"
    },
    "tags": []
   },
   "outputs": [],
   "source": [
    "# It was said:\n",
    "model.compile(\n",
    "    loss = tf.keras.losses.BinaryCrossentropy(),\n",
    "    optimizer = tf.keras.optimizers.Adam(learning_rate = .01),\n",
    "    metrics = ['binary_accuracy', 'accuracy']\n",
    ")\n",
    "# was said."
   ]
  },
  {
   "cell_type": "code",
   "execution_count": null,
   "id": "0ce2f29d",
   "metadata": {
    "execution": {
     "iopub.execute_input": "2022-11-12T08:12:18.970171Z",
     "iopub.status.busy": "2022-11-12T08:12:18.969672Z",
     "iopub.status.idle": "2022-11-12T08:12:21.764859Z",
     "shell.execute_reply": "2022-11-12T08:12:21.763509Z"
    },
    "papermill": {
     "duration": 2.820411,
     "end_time": "2022-11-12T08:12:21.767620",
     "exception": false,
     "start_time": "2022-11-12T08:12:18.947209",
     "status": "completed"
    },
    "tags": []
   },
   "outputs": [],
   "source": [
    "model.fit(\n",
    "    X_train, y_train, epochs = 75\n",
    ")"
   ]
  },
  {
   "cell_type": "code",
   "execution_count": null,
   "id": "dac97003",
   "metadata": {
    "execution": {
     "iopub.execute_input": "2022-11-12T08:12:21.830367Z",
     "iopub.status.busy": "2022-11-12T08:12:21.828744Z",
     "iopub.status.idle": "2022-11-12T08:12:22.119208Z",
     "shell.execute_reply": "2022-11-12T08:12:22.117889Z"
    },
    "papermill": {
     "duration": 0.325398,
     "end_time": "2022-11-12T08:12:22.122586",
     "exception": false,
     "start_time": "2022-11-12T08:12:21.797188",
     "status": "completed"
    },
    "tags": []
   },
   "outputs": [],
   "source": [
    "model.evaluate(X_test, y_test, verbose = 2)"
   ]
  },
  {
   "cell_type": "markdown",
   "id": "dabfe328",
   "metadata": {
    "papermill": {
     "duration": 0.02937,
     "end_time": "2022-11-12T08:12:22.245665",
     "exception": false,
     "start_time": "2022-11-12T08:12:22.216295",
     "status": "completed"
    },
    "tags": []
   },
   "source": [
    "[GitHub Repo](https://github.com/abed-r-j/ML1)."
   ]
  }
 ],
 "metadata": {
  "kernelspec": {
   "display_name": "Python 3 (ipykernel)",
   "language": "python",
   "name": "python3"
  },
  "language_info": {
   "codemirror_mode": {
    "name": "ipython",
    "version": 3
   },
   "file_extension": ".py",
   "mimetype": "text/x-python",
   "name": "python",
   "nbconvert_exporter": "python",
   "pygments_lexer": "ipython3",
   "version": "3.11.5"
  },
  "papermill": {
   "default_parameters": {},
   "duration": 73.414141,
   "end_time": "2022-11-12T08:12:25.014507",
   "environment_variables": {},
   "exception": null,
   "input_path": "__notebook__.ipynb",
   "output_path": "__notebook__.ipynb",
   "parameters": {},
   "start_time": "2022-11-12T08:11:11.600366",
   "version": "2.3.4"
  }
 },
 "nbformat": 4,
 "nbformat_minor": 5
}
