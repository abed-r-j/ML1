{
 "cells": [
  {
   "cell_type": "markdown",
   "id": "3e4ef6e1",
   "metadata": {
    "papermill": {
     "duration": 0.027242,
     "end_time": "2024-02-18T12:36:07.857937",
     "exception": false,
     "start_time": "2024-02-18T12:36:07.830695",
     "status": "completed"
    },
    "tags": []
   },
   "source": [
    "# Importing toolkit"
   ]
  },
  {
   "cell_type": "code",
   "execution_count": null,
   "id": "4d4addf1",
   "metadata": {
    "execution": {
     "iopub.execute_input": "2024-02-18T12:36:07.912530Z",
     "iopub.status.busy": "2024-02-18T12:36:07.912087Z",
     "iopub.status.idle": "2024-02-18T12:36:10.964766Z",
     "shell.execute_reply": "2024-02-18T12:36:10.963693Z"
    },
    "papermill": {
     "duration": 3.083174,
     "end_time": "2024-02-18T12:36:10.967387",
     "exception": false,
     "start_time": "2024-02-18T12:36:07.884213",
     "status": "completed"
    },
    "scrolled": false,
    "tags": []
   },
   "outputs": [],
   "source": [
    "import pandas as pd\n",
    "import numpy as np\n",
    "import plotly.express as px \n",
    "from plotly.offline import iplot\n",
    "from sklearn.model_selection import train_test_split, cross_val_score, KFold\n",
    "from sklearn.ensemble import RandomForestRegressor\n",
    "from sklearn.metrics import mean_absolute_error, mean_squared_error, r2_score\n",
    "import warnings\n",
    "warnings.filterwarnings(\"ignore\")\n",
    "pd.set_option('future.no_silent_downcasting', True)\n",
    "pd.options.mode.copy_on_write = \"warn\""
   ]
  },
  {
   "cell_type": "markdown",
   "id": "40bde4e7",
   "metadata": {
    "papermill": {
     "duration": 0.025821,
     "end_time": "2024-02-18T12:36:11.019572",
     "exception": false,
     "start_time": "2024-02-18T12:36:10.993751",
     "status": "completed"
    },
    "tags": []
   },
   "source": [
    "## Customized Vizualizations Function"
   ]
  },
  {
   "cell_type": "code",
   "execution_count": null,
   "id": "632721ab",
   "metadata": {
    "execution": {
     "iopub.execute_input": "2024-02-18T12:36:11.074276Z",
     "iopub.status.busy": "2024-02-18T12:36:11.073639Z",
     "iopub.status.idle": "2024-02-18T12:36:11.083102Z",
     "shell.execute_reply": "2024-02-18T12:36:11.082129Z"
    },
    "papermill": {
     "duration": 0.039889,
     "end_time": "2024-02-18T12:36:11.085551",
     "exception": false,
     "start_time": "2024-02-18T12:36:11.045662",
     "status": "completed"
    },
    "scrolled": false,
    "tags": []
   },
   "outputs": [],
   "source": [
    "# Adding Line To Plotly Figure\n",
    "def add_line(x0 = 0, y0 = 0, x1 = 0, y1 = 0, \n",
    "             line_color = \"#00DFA2\", font_color = \"#3C486B\", \n",
    "             xposition = \"right\", text = \"Text\"):\n",
    "    fig.add_shape(type='line',\n",
    "                  x0 = x0,\n",
    "                  y0 = y0,\n",
    "                  x1 = x1,\n",
    "                  y1 = y1 + 2,\n",
    "                  line = {\n",
    "                      \"color\" : line_color,\n",
    "                      \"width\" : 3,\n",
    "                      \"dash\" : \"dashdot\"\n",
    "                  },\n",
    "                  label={\n",
    "                      \"text\" : f\"\\t{text}: {x1: 0.1f}\\t\".expandtabs(5),\n",
    "                      \"textposition\": \"end\",\n",
    "                      \"yanchor\" :\"top\",\n",
    "                      \"xanchor\" :xposition,\n",
    "                      \"textangle\" :0,\n",
    "                      \"font\": {\n",
    "                          \"size\": 14,\n",
    "                          \"color\" :font_color,\n",
    "                          \"family\" : \"arial\"\n",
    "                      },\n",
    "                  }\n",
    "                 )"
   ]
  },
  {
   "cell_type": "code",
   "execution_count": null,
   "id": "37b719f3",
   "metadata": {
    "execution": {
     "iopub.execute_input": "2024-02-18T12:36:11.140395Z",
     "iopub.status.busy": "2024-02-18T12:36:11.139228Z",
     "iopub.status.idle": "2024-02-18T12:36:11.145894Z",
     "shell.execute_reply": "2024-02-18T12:36:11.145110Z"
    },
    "papermill": {
     "duration": 0.036433,
     "end_time": "2024-02-18T12:36:11.148162",
     "exception": false,
     "start_time": "2024-02-18T12:36:11.111729",
     "status": "completed"
    },
    "scrolled": false,
    "tags": []
   },
   "outputs": [],
   "source": [
    "def custome_layout(title_size = 28, hover_font_size = 16, showlegend = False):\n",
    "    fig.update_layout(\n",
    "    showlegend = showlegend,\n",
    "    title = {\n",
    "        \"font\" :{\n",
    "            \"size\" :title_size,\n",
    "            \"family\" : \"tahoma\"\n",
    "        }\n",
    "    },\n",
    "    hoverlabel = {\n",
    "        \"bgcolor\" :\"#111\",\n",
    "        \"font_size\" : hover_font_size,\n",
    "        \"font_family\" :\"arial\"\n",
    "    }\n",
    ")"
   ]
  },
  {
   "cell_type": "markdown",
   "id": "5f4e9052",
   "metadata": {
    "papermill": {
     "duration": 0.025476,
     "end_time": "2024-02-18T12:36:11.199535",
     "exception": false,
     "start_time": "2024-02-18T12:36:11.174059",
     "status": "completed"
    },
    "tags": []
   },
   "source": [
    "# Loading data"
   ]
  },
  {
   "cell_type": "code",
   "execution_count": null,
   "id": "dab3b5da",
   "metadata": {
    "execution": {
     "iopub.execute_input": "2024-02-18T12:36:11.253850Z",
     "iopub.status.busy": "2024-02-18T12:36:11.252710Z",
     "iopub.status.idle": "2024-02-18T12:36:11.288276Z",
     "shell.execute_reply": "2024-02-18T12:36:11.287237Z"
    },
    "papermill": {
     "duration": 0.065484,
     "end_time": "2024-02-18T12:36:11.290917",
     "exception": false,
     "start_time": "2024-02-18T12:36:11.225433",
     "status": "completed"
    },
    "scrolled": false,
    "tags": []
   },
   "outputs": [],
   "source": [
    "df = pd.read_csv(\"ML1.csv\")"
   ]
  },
  {
   "cell_type": "markdown",
   "id": "eaee260e",
   "metadata": {
    "papermill": {
     "duration": 0.025701,
     "end_time": "2024-02-18T12:36:11.342811",
     "exception": false,
     "start_time": "2024-02-18T12:36:11.317110",
     "status": "completed"
    },
    "tags": []
   },
   "source": [
    "# Overview"
   ]
  },
  {
   "cell_type": "code",
   "execution_count": null,
   "id": "026d85d5",
   "metadata": {
    "execution": {
     "iopub.execute_input": "2024-02-18T12:36:11.396769Z",
     "iopub.status.busy": "2024-02-18T12:36:11.395953Z",
     "iopub.status.idle": "2024-02-18T12:36:11.422035Z",
     "shell.execute_reply": "2024-02-18T12:36:11.420919Z"
    },
    "papermill": {
     "duration": 0.056058,
     "end_time": "2024-02-18T12:36:11.424639",
     "exception": false,
     "start_time": "2024-02-18T12:36:11.368581",
     "status": "completed"
    },
    "scrolled": false,
    "tags": []
   },
   "outputs": [],
   "source": [
    "df.info()"
   ]
  },
  {
   "cell_type": "code",
   "execution_count": null,
   "id": "b0b0c5f0",
   "metadata": {
    "execution": {
     "iopub.execute_input": "2024-02-18T12:36:11.479750Z",
     "iopub.status.busy": "2024-02-18T12:36:11.478578Z",
     "iopub.status.idle": "2024-02-18T12:36:11.503551Z",
     "shell.execute_reply": "2024-02-18T12:36:11.502372Z"
    },
    "papermill": {
     "duration": 0.055561,
     "end_time": "2024-02-18T12:36:11.506150",
     "exception": false,
     "start_time": "2024-02-18T12:36:11.450589",
     "status": "completed"
    },
    "scrolled": false,
    "tags": []
   },
   "outputs": [],
   "source": [
    "df.sample(10, random_state=15)"
   ]
  },
  {
   "cell_type": "code",
   "execution_count": null,
   "id": "76e257fe",
   "metadata": {
    "execution": {
     "iopub.execute_input": "2024-02-18T12:36:11.561454Z",
     "iopub.status.busy": "2024-02-18T12:36:11.560356Z",
     "iopub.status.idle": "2024-02-18T12:36:11.586079Z",
     "shell.execute_reply": "2024-02-18T12:36:11.584889Z"
    },
    "papermill": {
     "duration": 0.055838,
     "end_time": "2024-02-18T12:36:11.588452",
     "exception": false,
     "start_time": "2024-02-18T12:36:11.532614",
     "status": "completed"
    },
    "scrolled": false,
    "tags": []
   },
   "outputs": [],
   "source": [
    "df.describe().T"
   ]
  },
  {
   "cell_type": "markdown",
   "id": "d32554f3",
   "metadata": {
    "papermill": {
     "duration": 0.027294,
     "end_time": "2024-02-18T12:36:11.642398",
     "exception": false,
     "start_time": "2024-02-18T12:36:11.615104",
     "status": "completed"
    },
    "tags": []
   },
   "source": [
    "# Data preprocessing"
   ]
  },
  {
   "cell_type": "markdown",
   "id": "4110c9f3",
   "metadata": {
    "papermill": {
     "duration": 0.027229,
     "end_time": "2024-02-18T12:36:11.698393",
     "exception": false,
     "start_time": "2024-02-18T12:36:11.671164",
     "status": "completed"
    },
    "tags": []
   },
   "source": [
    "## Checking for nan values"
   ]
  },
  {
   "cell_type": "code",
   "execution_count": null,
   "id": "5588082f",
   "metadata": {
    "execution": {
     "iopub.execute_input": "2024-02-18T12:36:11.754036Z",
     "iopub.status.busy": "2024-02-18T12:36:11.753363Z",
     "iopub.status.idle": "2024-02-18T12:36:11.762352Z",
     "shell.execute_reply": "2024-02-18T12:36:11.761224Z"
    },
    "papermill": {
     "duration": 0.039353,
     "end_time": "2024-02-18T12:36:11.764522",
     "exception": false,
     "start_time": "2024-02-18T12:36:11.725169",
     "status": "completed"
    },
    "scrolled": false,
    "tags": []
   },
   "outputs": [],
   "source": [
    "# Checking For Duplicates\n",
    "df.isna().sum()"
   ]
  },
  {
   "cell_type": "code",
   "execution_count": null,
   "id": "63a65c4a",
   "metadata": {
    "execution": {
     "iopub.execute_input": "2024-02-18T12:36:11.820242Z",
     "iopub.status.busy": "2024-02-18T12:36:11.819818Z",
     "iopub.status.idle": "2024-02-18T12:36:11.834152Z",
     "shell.execute_reply": "2024-02-18T12:36:11.832726Z"
    },
    "papermill": {
     "duration": 0.045201,
     "end_time": "2024-02-18T12:36:11.836523",
     "exception": false,
     "start_time": "2024-02-18T12:36:11.791322",
     "status": "completed"
    },
    "scrolled": false,
    "tags": []
   },
   "outputs": [],
   "source": [
    "# Nan Values\n",
    "df[df[\"Age\"].isna()]"
   ]
  },
  {
   "cell_type": "markdown",
   "id": "7a50e56e",
   "metadata": {
    "papermill": {
     "duration": 0.02677,
     "end_time": "2024-02-18T12:36:11.890867",
     "exception": false,
     "start_time": "2024-02-18T12:36:11.864097",
     "status": "completed"
    },
    "tags": []
   },
   "source": [
    "<p style = \"color: gold;\n",
    "            font: bold 22px arial;\n",
    "            padding: 15px;\n",
    "            background-color: #112\">\n",
    "    • Removing these two records..\n",
    "</p>"
   ]
  },
  {
   "cell_type": "code",
   "execution_count": null,
   "id": "b97cf853",
   "metadata": {
    "execution": {
     "iopub.execute_input": "2024-02-18T12:36:11.947989Z",
     "iopub.status.busy": "2024-02-18T12:36:11.946944Z",
     "iopub.status.idle": "2024-02-18T12:36:11.957276Z",
     "shell.execute_reply": "2024-02-18T12:36:11.956157Z"
    },
    "papermill": {
     "duration": 0.041911,
     "end_time": "2024-02-18T12:36:11.959850",
     "exception": false,
     "start_time": "2024-02-18T12:36:11.917939",
     "status": "completed"
    },
    "scrolled": false,
    "tags": []
   },
   "outputs": [],
   "source": [
    "# Droping Records That Contain Only Nan Values \n",
    "df.dropna(inplace=True)\n",
    "# Checking Again For Nan Values\n",
    "df.isna().sum()"
   ]
  },
  {
   "cell_type": "markdown",
   "id": "a7642a95",
   "metadata": {
    "papermill": {
     "duration": 0.085638,
     "end_time": "2024-02-18T12:36:12.073328",
     "exception": false,
     "start_time": "2024-02-18T12:36:11.987690",
     "status": "completed"
    },
    "tags": []
   },
   "source": [
    "## Checking for duplicates records"
   ]
  },
  {
   "cell_type": "code",
   "execution_count": null,
   "id": "da939a04",
   "metadata": {
    "execution": {
     "iopub.execute_input": "2024-02-18T12:36:12.130805Z",
     "iopub.status.busy": "2024-02-18T12:36:12.129618Z",
     "iopub.status.idle": "2024-02-18T12:36:12.138055Z",
     "shell.execute_reply": "2024-02-18T12:36:12.137036Z"
    },
    "papermill": {
     "duration": 0.039455,
     "end_time": "2024-02-18T12:36:12.140262",
     "exception": false,
     "start_time": "2024-02-18T12:36:12.100807",
     "status": "completed"
    },
    "scrolled": false,
    "tags": []
   },
   "outputs": [],
   "source": [
    "df.duplicated().sum()"
   ]
  },
  {
   "cell_type": "code",
   "execution_count": null,
   "id": "2e9f7c0a",
   "metadata": {
    "execution": {
     "iopub.execute_input": "2024-02-18T12:36:12.197275Z",
     "iopub.status.busy": "2024-02-18T12:36:12.196538Z",
     "iopub.status.idle": "2024-02-18T12:36:12.217529Z",
     "shell.execute_reply": "2024-02-18T12:36:12.216360Z"
    },
    "papermill": {
     "duration": 0.052248,
     "end_time": "2024-02-18T12:36:12.219954",
     "exception": false,
     "start_time": "2024-02-18T12:36:12.167706",
     "status": "completed"
    },
    "scrolled": false,
    "tags": []
   },
   "outputs": [],
   "source": [
    "df[df.duplicated()].head(15)"
   ]
  },
  {
   "cell_type": "markdown",
   "id": "37718fb5",
   "metadata": {
    "papermill": {
     "duration": 0.02904,
     "end_time": "2024-02-18T12:36:12.277384",
     "exception": false,
     "start_time": "2024-02-18T12:36:12.248344",
     "status": "completed"
    },
    "tags": []
   },
   "source": [
    "<p style = \"color: gold;\n",
    "            font: bold 22px arial;\n",
    "            padding: 15px;\n",
    "            background-color: #112\">\n",
    "    • Removing the duplicate rows\n",
    "</p>"
   ]
  },
  {
   "cell_type": "code",
   "execution_count": null,
   "id": "607b46a6",
   "metadata": {
    "execution": {
     "iopub.execute_input": "2024-02-18T12:36:12.335372Z",
     "iopub.status.busy": "2024-02-18T12:36:12.334942Z",
     "iopub.status.idle": "2024-02-18T12:36:12.342241Z",
     "shell.execute_reply": "2024-02-18T12:36:12.341220Z"
    },
    "papermill": {
     "duration": 0.038831,
     "end_time": "2024-02-18T12:36:12.344424",
     "exception": false,
     "start_time": "2024-02-18T12:36:12.305593",
     "status": "completed"
    },
    "scrolled": false,
    "tags": []
   },
   "outputs": [],
   "source": [
    "# Droping Duplicates Records\n",
    "df.drop_duplicates(inplace=True)\n",
    "# Reseting Index to be Orderd\n",
    "df.reset_index(inplace=True, drop=True)"
   ]
  },
  {
   "cell_type": "code",
   "execution_count": null,
   "id": "eac5fd19",
   "metadata": {
    "execution": {
     "iopub.execute_input": "2024-02-18T12:36:12.402770Z",
     "iopub.status.busy": "2024-02-18T12:36:12.401994Z",
     "iopub.status.idle": "2024-02-18T12:36:12.416584Z",
     "shell.execute_reply": "2024-02-18T12:36:12.415380Z"
    },
    "papermill": {
     "duration": 0.046503,
     "end_time": "2024-02-18T12:36:12.419031",
     "exception": false,
     "start_time": "2024-02-18T12:36:12.372528",
     "status": "completed"
    },
    "scrolled": false,
    "tags": []
   },
   "outputs": [],
   "source": [
    "df.head()"
   ]
  },
  {
   "cell_type": "markdown",
   "id": "193d0277",
   "metadata": {
    "papermill": {
     "duration": 0.027555,
     "end_time": "2024-02-18T12:36:12.474472",
     "exception": false,
     "start_time": "2024-02-18T12:36:12.446917",
     "status": "completed"
    },
    "tags": []
   },
   "source": [
    "# Column"
   ]
  },
  {
   "cell_type": "markdown",
   "id": "18c0edae",
   "metadata": {
    "papermill": {
     "duration": 0.027801,
     "end_time": "2024-02-18T12:36:12.530526",
     "exception": false,
     "start_time": "2024-02-18T12:36:12.502725",
     "status": "completed"
    },
    "tags": []
   },
   "source": [
    "<p style = \"color: #98EECC;\n",
    "            font: bold 18px arial;\n",
    "            padding: 15px;\n",
    "            background-color: #111;\n",
    "            border: 3px solid lightgreen;\n",
    "            border-radius: 8px\">\n",
    "    Age Column\n",
    "</p>"
   ]
  },
  {
   "cell_type": "code",
   "execution_count": null,
   "id": "de00479b",
   "metadata": {
    "execution": {
     "iopub.execute_input": "2024-02-18T12:36:12.588690Z",
     "iopub.status.busy": "2024-02-18T12:36:12.587990Z",
     "iopub.status.idle": "2024-02-18T12:36:12.593392Z",
     "shell.execute_reply": "2024-02-18T12:36:12.592349Z"
    },
    "papermill": {
     "duration": 0.036941,
     "end_time": "2024-02-18T12:36:12.595515",
     "exception": false,
     "start_time": "2024-02-18T12:36:12.558574",
     "status": "completed"
    },
    "scrolled": false,
    "tags": []
   },
   "outputs": [],
   "source": [
    "mean_of_age = df[\"Age\"].mean()\n",
    "median_of_age = df[\"Age\"].median()"
   ]
  },
  {
   "cell_type": "code",
   "execution_count": null,
   "id": "c58cea15",
   "metadata": {
    "execution": {
     "iopub.execute_input": "2024-02-18T12:36:12.653837Z",
     "iopub.status.busy": "2024-02-18T12:36:12.653410Z",
     "iopub.status.idle": "2024-02-18T12:36:14.601922Z",
     "shell.execute_reply": "2024-02-18T12:36:14.598610Z"
    },
    "papermill": {
     "duration": 1.982702,
     "end_time": "2024-02-18T12:36:14.606336",
     "exception": false,
     "start_time": "2024-02-18T12:36:12.623634",
     "status": "completed"
    },
    "scrolled": false,
    "tags": []
   },
   "outputs": [],
   "source": [
    "fig = px.box(\n",
    "    y=df[\"Age\"], \n",
    "    title= \"Ages Distribution\",\n",
    "    template=\"plotly_dark\",\n",
    "    labels={\"y\" :\"Age\"},\n",
    ")\n",
    "custome_layout()\n",
    "iplot(fig)"
   ]
  },
  {
   "cell_type": "code",
   "execution_count": null,
   "id": "7cf4c5bc",
   "metadata": {
    "execution": {
     "iopub.execute_input": "2024-02-18T12:36:14.667378Z",
     "iopub.status.busy": "2024-02-18T12:36:14.666951Z",
     "iopub.status.idle": "2024-02-18T12:36:14.876373Z",
     "shell.execute_reply": "2024-02-18T12:36:14.875515Z"
    },
    "papermill": {
     "duration": 0.241837,
     "end_time": "2024-02-18T12:36:14.878534",
     "exception": false,
     "start_time": "2024-02-18T12:36:14.636697",
     "status": "completed"
    },
    "scrolled": true,
    "tags": []
   },
   "outputs": [],
   "source": [
    "fig = px.histogram(\n",
    "    df[\"Age\"], \n",
    "    nbins=25,\n",
    "    title= \"Age Distribution\",\n",
    "    template=\"plotly_dark\",\n",
    "    labels={\"value\" :\"Age\"}\n",
    ")\n",
    "custome_layout()\n",
    "fig.update_traces(\n",
    "    textfont = {\n",
    "        \"size\" : 20,\n",
    "        \"family\" :\"tahoma\",\n",
    "        \"color\": \"#fff\"\n",
    "    },\n",
    "    hovertemplate = \"Age: %{x}<br>Frequency: %{y}\",\n",
    "    marker=dict(line=dict(color='#000', width=0.1))\n",
    ")\n",
    "# Adding Mean Line\n",
    "add_line(x0=mean_of_age, y0=0, x1=mean_of_age, y1=30+2, line_color=\"#E97777\",font_color=\"#E97777\", \n",
    "         text=\"Mean\", xposition=\"left\")\n",
    "# Adding Median Line\n",
    "add_line(x0=median_of_age, y0=0, x1=median_of_age, y1=30+2, line_color=\"#FFE5F1\",\n",
    "         font_color=\"#fff\", xposition=\"right\", text=\"Median\")\n",
    "iplot(fig)"
   ]
  },
  {
   "cell_type": "markdown",
   "id": "cbb6e7c0",
   "metadata": {
    "papermill": {
     "duration": 0.030345,
     "end_time": "2024-02-18T12:36:15.011149",
     "exception": false,
     "start_time": "2024-02-18T12:36:14.980804",
     "status": "completed"
    },
    "tags": []
   },
   "source": [
    "<p style = \"color: #98EECC;\n",
    "            font: bold 18px arial;\n",
    "            padding: 15px;\n",
    "            background-color: #111;\n",
    "            border: 3px solid lightgreen;\n",
    "            border-radius: 8px\">\n",
    "    Gender Column\n",
    "</p>"
   ]
  },
  {
   "cell_type": "code",
   "execution_count": null,
   "id": "e09a5be5",
   "metadata": {
    "execution": {
     "iopub.execute_input": "2024-02-18T12:36:15.072470Z",
     "iopub.status.busy": "2024-02-18T12:36:15.071442Z",
     "iopub.status.idle": "2024-02-18T12:36:15.081663Z",
     "shell.execute_reply": "2024-02-18T12:36:15.080679Z"
    },
    "papermill": {
     "duration": 0.043341,
     "end_time": "2024-02-18T12:36:15.084142",
     "exception": false,
     "start_time": "2024-02-18T12:36:15.040801",
     "status": "completed"
    },
    "scrolled": false,
    "tags": []
   },
   "outputs": [],
   "source": [
    "gender = df[\"Gender\"].value_counts(normalize=1) * 100\n",
    "gender.apply(lambda x: f\"{x:0.2f}%\")"
   ]
  },
  {
   "cell_type": "code",
   "execution_count": null,
   "id": "03d5f102",
   "metadata": {
    "execution": {
     "iopub.execute_input": "2024-02-18T12:36:15.145747Z",
     "iopub.status.busy": "2024-02-18T12:36:15.144901Z",
     "iopub.status.idle": "2024-02-18T12:36:15.292998Z",
     "shell.execute_reply": "2024-02-18T12:36:15.291920Z"
    },
    "papermill": {
     "duration": 0.181856,
     "end_time": "2024-02-18T12:36:15.295553",
     "exception": false,
     "start_time": "2024-02-18T12:36:15.113697",
     "status": "completed"
    },
    "scrolled": false,
    "tags": []
   },
   "outputs": [],
   "source": [
    "fig = px.bar(data_frame = gender,\n",
    "             x = gender.index,\n",
    "             y = gender,\n",
    "             color = gender.index,\n",
    "             title = \"Gender Frequency (PCT)\",\n",
    "             color_discrete_sequence=[\"#45FFCA\", \"#FF9B9B\"],\n",
    "             labels= {\"index\" :\"Gender\", \"y\": \"Frequency in PCT(%)\"},\n",
    "             template=\"plotly_dark\",\n",
    "             text = gender.apply(lambda x: f\"{x:0.0f}%\"))\n",
    "custome_layout()\n",
    "fig.update_traces(\n",
    "    textfont = {\n",
    "        \"size\" : 16,\n",
    "        \"family\" :\"arial\",\n",
    "        \"color\": \"#222\"\n",
    "    },\n",
    "    hovertemplate = \"Gender: %{x}<br>Percentage: %{y:0.1f}%\",\n",
    ")\n",
    "iplot(fig)"
   ]
  },
  {
   "cell_type": "markdown",
   "id": "4cc1bcbe",
   "metadata": {
    "papermill": {
     "duration": 0.029762,
     "end_time": "2024-02-18T12:36:15.355528",
     "exception": false,
     "start_time": "2024-02-18T12:36:15.325766",
     "status": "completed"
    },
    "tags": []
   },
   "source": [
    "<p style = \"color: #98EECC;\n",
    "            font: bold 18px arial;\n",
    "            padding: 15px;\n",
    "            background-color: #111;\n",
    "            border: 3px solid lightgreen;\n",
    "            border-radius: 8px\">\n",
    "    Education Level Column\n",
    "</p>"
   ]
  },
  {
   "cell_type": "code",
   "execution_count": null,
   "id": "dd248295",
   "metadata": {
    "execution": {
     "iopub.execute_input": "2024-02-18T12:36:15.424355Z",
     "iopub.status.busy": "2024-02-18T12:36:15.423245Z",
     "iopub.status.idle": "2024-02-18T12:36:15.437344Z",
     "shell.execute_reply": "2024-02-18T12:36:15.436517Z"
    },
    "papermill": {
     "duration": 0.048118,
     "end_time": "2024-02-18T12:36:15.439515",
     "exception": false,
     "start_time": "2024-02-18T12:36:15.391397",
     "status": "completed"
    },
    "scrolled": false,
    "tags": []
   },
   "outputs": [],
   "source": [
    "education = df[\"Education Level\"].value_counts(normalize=1) * 100\n",
    "education.apply(lambda x: f\"{x:0.2f}%\")"
   ]
  },
  {
   "cell_type": "code",
   "execution_count": null,
   "id": "23f88674",
   "metadata": {
    "execution": {
     "iopub.execute_input": "2024-02-18T12:36:15.503548Z",
     "iopub.status.busy": "2024-02-18T12:36:15.502428Z",
     "iopub.status.idle": "2024-02-18T12:36:15.626680Z",
     "shell.execute_reply": "2024-02-18T12:36:15.625650Z"
    },
    "papermill": {
     "duration": 0.159501,
     "end_time": "2024-02-18T12:36:15.629243",
     "exception": false,
     "start_time": "2024-02-18T12:36:15.469742",
     "status": "completed"
    },
    "scrolled": false,
    "tags": []
   },
   "outputs": [],
   "source": [
    "fig = px.bar(data_frame = education,\n",
    "             x = education.index,\n",
    "             y = education,\n",
    "             color = education.index,\n",
    "             title = \"Education Frequency (PCT)\",\n",
    "             color_discrete_sequence=[\"#45FFCA\", \"#D09CFA\", \"#FF9B9B\"],\n",
    "             labels= {\"index\" :\"Education\", \"y\": \"Frequency in PCT(%)\"},\n",
    "             template=\"plotly_dark\",\n",
    "             text = education.apply(lambda x: f\"{x:0.0f}%\"))\n",
    "custome_layout()\n",
    "fig.update_traces(\n",
    "    textfont = {\n",
    "        \"size\" : 16,\n",
    "        \"family\" :\"arial\",\n",
    "        \"color\": \"#222\"\n",
    "    },\n",
    "    hovertemplate = \"Education: %{x}<br>Percentage: %{y:0.1f}%\",\n",
    ")\n",
    "iplot(fig)"
   ]
  },
  {
   "cell_type": "markdown",
   "id": "49f36b96",
   "metadata": {
    "papermill": {
     "duration": 0.030345,
     "end_time": "2024-02-18T12:36:15.690053",
     "exception": false,
     "start_time": "2024-02-18T12:36:15.659708",
     "status": "completed"
    },
    "tags": []
   },
   "source": [
    "<p style = \"color: #98EECC;\n",
    "            font: bold 18px arial;\n",
    "            padding: 15px;\n",
    "            background-color: #111;\n",
    "            border: 3px solid lightgreen;\n",
    "            border-radius: 8px\">\n",
    "    Experience Column\n",
    "</p>"
   ]
  },
  {
   "cell_type": "code",
   "execution_count": null,
   "id": "9e1107d1",
   "metadata": {
    "execution": {
     "iopub.execute_input": "2024-02-18T12:36:15.753240Z",
     "iopub.status.busy": "2024-02-18T12:36:15.752824Z",
     "iopub.status.idle": "2024-02-18T12:36:15.850330Z",
     "shell.execute_reply": "2024-02-18T12:36:15.849139Z"
    },
    "papermill": {
     "duration": 0.132673,
     "end_time": "2024-02-18T12:36:15.852885",
     "exception": false,
     "start_time": "2024-02-18T12:36:15.720212",
     "status": "completed"
    },
    "scrolled": false,
    "tags": []
   },
   "outputs": [],
   "source": [
    "fig = px.box(\n",
    "    y=df[\"Years of Experience\"], \n",
    "    title= \"Experience Years Distribution\",\n",
    "    template=\"plotly_dark\",\n",
    "    labels={\"y\" :\"EXP Years\"},\n",
    ")\n",
    "custome_layout()\n",
    "iplot(fig)"
   ]
  },
  {
   "cell_type": "markdown",
   "id": "0bdef6e4",
   "metadata": {
    "papermill": {
     "duration": 0.030737,
     "end_time": "2024-02-18T12:36:15.914800",
     "exception": false,
     "start_time": "2024-02-18T12:36:15.884063",
     "status": "completed"
    },
    "tags": []
   },
   "source": [
    "<p style = \"color: #98EECC;\n",
    "            font: bold 18px arial;\n",
    "            padding: 15px;\n",
    "            background-color: #111;\n",
    "            border: 3px solid lightgreen;\n",
    "            border-radius: 8px\">\n",
    "    Salary Column\n",
    "</p>"
   ]
  },
  {
   "cell_type": "code",
   "execution_count": null,
   "id": "c60a6dbf",
   "metadata": {
    "execution": {
     "iopub.execute_input": "2024-02-18T12:36:15.979892Z",
     "iopub.status.busy": "2024-02-18T12:36:15.978835Z",
     "iopub.status.idle": "2024-02-18T12:36:16.080928Z",
     "shell.execute_reply": "2024-02-18T12:36:16.079838Z"
    },
    "papermill": {
     "duration": 0.137485,
     "end_time": "2024-02-18T12:36:16.083314",
     "exception": false,
     "start_time": "2024-02-18T12:36:15.945829",
     "status": "completed"
    },
    "scrolled": false,
    "tags": []
   },
   "outputs": [],
   "source": [
    "fig = px.box(\n",
    "    x = df[\"Education Level\"], y = df[\"Salary\"],\n",
    "    title= \"Salary And Education Level\",\n",
    "    template=\"plotly_dark\",\n",
    "    labels={\"x\": \"Education Level\", \"y\" :\"Salary\"}\n",
    ")\n",
    "custome_layout(hover_font_size=13)\n",
    "iplot(fig)"
   ]
  },
  {
   "cell_type": "markdown",
   "id": "8abe0f33",
   "metadata": {
    "papermill": {
     "duration": 0.031227,
     "end_time": "2024-02-18T12:36:16.146605",
     "exception": false,
     "start_time": "2024-02-18T12:36:16.115378",
     "status": "completed"
    },
    "tags": []
   },
   "source": [
    "# Insights"
   ]
  },
  {
   "cell_type": "code",
   "execution_count": null,
   "id": "c6cd1ef8",
   "metadata": {
    "execution": {
     "iopub.execute_input": "2024-02-18T12:36:16.273756Z",
     "iopub.status.busy": "2024-02-18T12:36:16.273375Z",
     "iopub.status.idle": "2024-02-18T12:36:16.285095Z",
     "shell.execute_reply": "2024-02-18T12:36:16.284259Z"
    },
    "papermill": {
     "duration": 0.046368,
     "end_time": "2024-02-18T12:36:16.287293",
     "exception": false,
     "start_time": "2024-02-18T12:36:16.240925",
     "status": "completed"
    },
    "scrolled": false,
    "tags": []
   },
   "outputs": [],
   "source": [
    "salary_by_gender = df.groupby(\"Gender\")[\"Salary\"].mean().sort_values(ascending=False)\n",
    "salary_by_gender.apply(lambda x: f\"${x:,.2f}\")"
   ]
  },
  {
   "cell_type": "code",
   "execution_count": null,
   "id": "f6ea4474",
   "metadata": {
    "execution": {
     "iopub.execute_input": "2024-02-18T12:36:16.351793Z",
     "iopub.status.busy": "2024-02-18T12:36:16.351404Z",
     "iopub.status.idle": "2024-02-18T12:36:16.469740Z",
     "shell.execute_reply": "2024-02-18T12:36:16.468642Z"
    },
    "papermill": {
     "duration": 0.153748,
     "end_time": "2024-02-18T12:36:16.472269",
     "exception": false,
     "start_time": "2024-02-18T12:36:16.318521",
     "status": "completed"
    },
    "scrolled": false,
    "tags": []
   },
   "outputs": [],
   "source": [
    "fig = px.bar(data_frame = salary_by_gender,\n",
    "             x = salary_by_gender.index,\n",
    "             y = salary_by_gender,\n",
    "             color = salary_by_gender.index,\n",
    "             title = \"AVG Salary By Gender\",\n",
    "             color_discrete_sequence=[\"#45FFCA\", \"#D09CFA\", \"#FF9B9B\"],\n",
    "             labels= {\"index\" :\"Education\", \"y\": \"Frequency in PCT(%)\"},\n",
    "             template=\"plotly_dark\",\n",
    "             text_auto = \"0.4s\" \n",
    "            )\n",
    "custome_layout()\n",
    "fig.update_traces(\n",
    "    textfont = {\n",
    "        \"size\" : 16,\n",
    "        \"family\" :\"arial\",\n",
    "        \"color\": \"#222\"\n",
    "    },\n",
    "    hovertemplate = \"Gender: %{x}<br>Average Salary: $%{y:0.4s}\",\n",
    ")\n",
    "iplot(fig)"
   ]
  },
  {
   "cell_type": "code",
   "execution_count": null,
   "id": "8ba21cc7",
   "metadata": {
    "execution": {
     "iopub.execute_input": "2024-02-18T12:36:16.602081Z",
     "iopub.status.busy": "2024-02-18T12:36:16.601352Z",
     "iopub.status.idle": "2024-02-18T12:36:16.611268Z",
     "shell.execute_reply": "2024-02-18T12:36:16.610218Z"
    },
    "papermill": {
     "duration": 0.045021,
     "end_time": "2024-02-18T12:36:16.613381",
     "exception": false,
     "start_time": "2024-02-18T12:36:16.568360",
     "status": "completed"
    },
    "scrolled": false,
    "tags": []
   },
   "outputs": [],
   "source": [
    "salary_by_education = df.groupby(\"Education Level\")[\"Salary\"].mean().sort_values(ascending=False)\n",
    "salary_by_education.apply(lambda x: f\"${x:,.2f}\")"
   ]
  },
  {
   "cell_type": "code",
   "execution_count": null,
   "id": "e839f65c",
   "metadata": {
    "execution": {
     "iopub.execute_input": "2024-02-18T12:36:16.678458Z",
     "iopub.status.busy": "2024-02-18T12:36:16.678021Z",
     "iopub.status.idle": "2024-02-18T12:36:16.803989Z",
     "shell.execute_reply": "2024-02-18T12:36:16.802828Z"
    },
    "papermill": {
     "duration": 0.161352,
     "end_time": "2024-02-18T12:36:16.806535",
     "exception": false,
     "start_time": "2024-02-18T12:36:16.645183",
     "status": "completed"
    },
    "scrolled": false,
    "tags": []
   },
   "outputs": [],
   "source": [
    "fig = px.bar(data_frame = salary_by_education,\n",
    "             x = salary_by_education.index,\n",
    "             y = salary_by_education,\n",
    "             color = salary_by_education.index,\n",
    "             title = \"AVG Salary Via Education Level\",\n",
    "             color_discrete_sequence=[\"#45FFCA\", \"#D09CFA\", \"#FF9B9B\"],\n",
    "             labels= {\"index\" :\"Education\", \"y\": \"Frequency in PCT(%)\"},\n",
    "             template=\"plotly_dark\",\n",
    "             text_auto = \"0.4s\" \n",
    "            )\n",
    "custome_layout()\n",
    "fig.update_traces(\n",
    "    textfont = {\n",
    "        \"size\" : 16,\n",
    "        \"family\" :\"arial\",\n",
    "        \"color\": \"#222\"\n",
    "    },\n",
    "    hovertemplate = \"Education Level: %{x}<br>Average Salary: $%{y:0.4s}\",\n",
    ")\n",
    "iplot(fig)"
   ]
  },
  {
   "cell_type": "code",
   "execution_count": null,
   "id": "39cc61ff",
   "metadata": {
    "execution": {
     "iopub.execute_input": "2024-02-18T12:36:16.937521Z",
     "iopub.status.busy": "2024-02-18T12:36:16.937104Z",
     "iopub.status.idle": "2024-02-18T12:36:16.943920Z",
     "shell.execute_reply": "2024-02-18T12:36:16.942829Z"
    },
    "papermill": {
     "duration": 0.042396,
     "end_time": "2024-02-18T12:36:16.946132",
     "exception": false,
     "start_time": "2024-02-18T12:36:16.903736",
     "status": "completed"
    },
    "scrolled": false,
    "tags": []
   },
   "outputs": [],
   "source": [
    "def groupping_exp(exp):\n",
    "    if exp >= 0 and exp <= 5:\n",
    "        return \"0-5 years\"\n",
    "    elif exp > 5 and exp <= 10:\n",
    "        return \"6-10 years\"\n",
    "    elif exp > 10 and exp <= 15:\n",
    "        return \"11-15 years\"\n",
    "    elif exp > 15 and exp <= 20:\n",
    "        return \"16-20 years\"\n",
    "    else:\n",
    "        return \"20+\"       "
   ]
  },
  {
   "cell_type": "code",
   "execution_count": null,
   "id": "3933367f",
   "metadata": {
    "execution": {
     "iopub.execute_input": "2024-02-18T12:36:17.013139Z",
     "iopub.status.busy": "2024-02-18T12:36:17.012677Z",
     "iopub.status.idle": "2024-02-18T12:36:17.026000Z",
     "shell.execute_reply": "2024-02-18T12:36:17.024855Z"
    },
    "papermill": {
     "duration": 0.049025,
     "end_time": "2024-02-18T12:36:17.028270",
     "exception": false,
     "start_time": "2024-02-18T12:36:16.979245",
     "status": "completed"
    },
    "scrolled": false,
    "tags": []
   },
   "outputs": [],
   "source": [
    "salary_by_exp = df.groupby(df[\"Years of Experience\"].apply(groupping_exp))[\"Salary\"].mean().sort_values(ascending=False)\n",
    "salary_by_exp.apply(lambda x: f\"${x:,.2f}\")"
   ]
  },
  {
   "cell_type": "code",
   "execution_count": null,
   "id": "6f237762",
   "metadata": {
    "execution": {
     "iopub.execute_input": "2024-02-18T12:36:17.094702Z",
     "iopub.status.busy": "2024-02-18T12:36:17.094276Z",
     "iopub.status.idle": "2024-02-18T12:36:17.232231Z",
     "shell.execute_reply": "2024-02-18T12:36:17.231164Z"
    },
    "papermill": {
     "duration": 0.174193,
     "end_time": "2024-02-18T12:36:17.234807",
     "exception": false,
     "start_time": "2024-02-18T12:36:17.060614",
     "status": "completed"
    },
    "scrolled": false,
    "tags": []
   },
   "outputs": [],
   "source": [
    "fig = px.bar(data_frame = salary_by_exp,\n",
    "             x = salary_by_exp.index,\n",
    "             y = salary_by_exp,\n",
    "             color = salary_by_exp.index,\n",
    "             title = \"AVG Salary By Gender\",\n",
    "             color_discrete_sequence=[\"#45FFCA\", \"#D09CFA\", \"#FF9B9B\", \"#F875AA\", \"#3EDBF0\"],\n",
    "             labels= {\"index\" :\"Education\", \"y\": \"Frequency in PCT(%)\"},\n",
    "             template=\"plotly_dark\",\n",
    "             text_auto = \"0.4s\" \n",
    "            )\n",
    "custome_layout()\n",
    "fig.update_traces(\n",
    "    textfont = {\n",
    "        \"size\" : 16,\n",
    "        \"family\" :\"arial\",\n",
    "        \"color\": \"#222\"\n",
    "    },\n",
    "    hovertemplate = \"Gender: %{x}<br>Average Salary: $%{y:0.4s}\",\n",
    ")\n",
    "iplot(fig)"
   ]
  },
  {
   "cell_type": "markdown",
   "id": "42b0ba40",
   "metadata": {
    "papermill": {
     "duration": 0.032809,
     "end_time": "2024-02-18T12:36:17.366908",
     "exception": false,
     "start_time": "2024-02-18T12:36:17.334099",
     "status": "completed"
    },
    "tags": []
   },
   "source": [
    "# Correlation HeatMap & Charts"
   ]
  },
  {
   "cell_type": "code",
   "execution_count": null,
   "id": "440e09ec",
   "metadata": {
    "execution": {
     "iopub.execute_input": "2024-02-18T12:36:17.500438Z",
     "iopub.status.busy": "2024-02-18T12:36:17.500033Z",
     "iopub.status.idle": "2024-02-18T12:36:17.613404Z",
     "shell.execute_reply": "2024-02-18T12:36:17.612273Z"
    },
    "papermill": {
     "duration": 0.15055,
     "end_time": "2024-02-18T12:36:17.615898",
     "exception": false,
     "start_time": "2024-02-18T12:36:17.465348",
     "status": "completed"
    },
    "scrolled": false,
    "tags": []
   },
   "outputs": [],
   "source": [
    "correlation = df.corr(numeric_only=True)\n",
    "fig = px.imshow(\n",
    "    correlation,\n",
    "    template = \"plotly_dark\",\n",
    "    text_auto = \"0.2f\",\n",
    "    aspect=1,\n",
    "    color_continuous_scale=\"orrd\",\n",
    "    title= \"Correlations Between Data\"\n",
    ")\n",
    "fig.update_layout(\n",
    "    title = {\n",
    "        \"font\" :{\n",
    "            \"size\" : 28,\n",
    "            \"family\" : \"tahoma\"\n",
    "        }\n",
    "    }\n",
    ")\n",
    "iplot(fig)"
   ]
  },
  {
   "cell_type": "code",
   "execution_count": null,
   "id": "21bb7f63",
   "metadata": {
    "execution": {
     "iopub.execute_input": "2024-02-18T12:36:17.684850Z",
     "iopub.status.busy": "2024-02-18T12:36:17.684072Z",
     "iopub.status.idle": "2024-02-18T12:36:17.828095Z",
     "shell.execute_reply": "2024-02-18T12:36:17.826974Z"
    },
    "papermill": {
     "duration": 0.18107,
     "end_time": "2024-02-18T12:36:17.830434",
     "exception": false,
     "start_time": "2024-02-18T12:36:17.649364",
     "status": "completed"
    },
    "scrolled": false,
    "tags": []
   },
   "outputs": [],
   "source": [
    "fig = px.scatter_matrix(\n",
    "    df,\n",
    "    dimensions=df.select_dtypes(include=\"number\").columns,\n",
    "    height=800,\n",
    "    color=\"Salary\",\n",
    "    opacity=0.65,\n",
    "    title= \"Relationships Between Numerical Data\",\n",
    "    template=\"plotly_dark\"\n",
    ")\n",
    "fig.update_layout(\n",
    "    title = {\n",
    "        \"font\" :{\n",
    "            \"size\" : 28,\n",
    "            \"family\" : \"tahoma\"\n",
    "        }\n",
    "    }\n",
    ")\n",
    "iplot(fig)"
   ]
  },
  {
   "cell_type": "markdown",
   "id": "bbfb2dd4",
   "metadata": {
    "papermill": {
     "duration": 0.033274,
     "end_time": "2024-02-18T12:36:17.898164",
     "exception": false,
     "start_time": "2024-02-18T12:36:17.864890",
     "status": "completed"
    },
    "tags": []
   },
   "source": [
    "<h3 style = \"font: bold 18px arial;\n",
    "             color: gold;\n",
    "             background-color: #111;\n",
    "             padding: 15px;\n",
    "             border: 2px solid orangere\">\n",
    "    ► From These Graphs & Explorations Can Be Find Out That:\n",
    "    <br>\n",
    "    <br>\n",
    "    • There is a <b style = \"color: tomato\">Strong</b> Linear Positive Correlation between Salary and Age\n",
    "    <br>\n",
    "    <br>\n",
    "    • There is a <b style = \"color: tomato\">Strong</b> Linear Positive Correlation between Salary and Experience Years\n",
    "</h3>"
   ]
  },
  {
   "cell_type": "markdown",
   "id": "d4599f47",
   "metadata": {
    "papermill": {
     "duration": 0.033191,
     "end_time": "2024-02-18T12:36:18.034221",
     "exception": false,
     "start_time": "2024-02-18T12:36:18.001030",
     "status": "completed"
    },
    "tags": []
   },
   "source": [
    "<p style = \"color: #F3CCFF;\n",
    "            font: bold 22px arial;\n",
    "            padding: 15px;\n",
    "            background-color: #111;\n",
    "            border: 3px solid violet;\n",
    "            border-radius: 8px\">\n",
    "    1] Encoding Categorical Data: (Converting Categorical Into Numerical)\n",
    "</p>"
   ]
  },
  {
   "cell_type": "code",
   "execution_count": null,
   "id": "a0935d04",
   "metadata": {
    "execution": {
     "iopub.execute_input": "2024-02-18T12:36:18.103173Z",
     "iopub.status.busy": "2024-02-18T12:36:18.102780Z",
     "iopub.status.idle": "2024-02-18T12:36:18.121409Z",
     "shell.execute_reply": "2024-02-18T12:36:18.120379Z"
    },
    "papermill": {
     "duration": 0.05601,
     "end_time": "2024-02-18T12:36:18.123772",
     "exception": false,
     "start_time": "2024-02-18T12:36:18.067762",
     "status": "completed"
    },
    "scrolled": false,
    "tags": []
   },
   "outputs": [],
   "source": [
    "df_encoded = pd.get_dummies(df, columns=[\"Education Level\"], drop_first=True) *1\n",
    "df_encoded.head()"
   ]
  },
  {
   "cell_type": "markdown",
   "id": "4ce625f8",
   "metadata": {
    "papermill": {
     "duration": 0.033772,
     "end_time": "2024-02-18T12:36:18.191461",
     "exception": false,
     "start_time": "2024-02-18T12:36:18.157689",
     "status": "completed"
    },
    "tags": []
   },
   "source": [
    "<p style = \"color: #F3CCFF;\n",
    "            font: bold 22px arial;\n",
    "            padding: 15px;\n",
    "            background-color: #111;\n",
    "            border: 3px solid violet;\n",
    "            border-radius: 8px\">\n",
    "    2]\n",
    "</p>"
   ]
  },
  {
   "cell_type": "code",
   "execution_count": null,
   "id": "74a212f6",
   "metadata": {
    "execution": {
     "iopub.execute_input": "2024-02-18T12:36:18.261717Z",
     "iopub.status.busy": "2024-02-18T12:36:18.261342Z",
     "iopub.status.idle": "2024-02-18T12:36:18.267429Z",
     "shell.execute_reply": "2024-02-18T12:36:18.266270Z"
    },
    "papermill": {
     "duration": 0.04403,
     "end_time": "2024-02-18T12:36:18.269661",
     "exception": false,
     "start_time": "2024-02-18T12:36:18.225631",
     "status": "completed"
    },
    "scrolled": false,
    "tags": []
   },
   "outputs": [],
   "source": [
    "X = df_encoded.drop(columns=[\"Job Title\", \"Salary\", \"Gender\"])\n",
    "y = df_encoded[\"Salary\"]"
   ]
  },
  {
   "cell_type": "code",
   "execution_count": null,
   "id": "c8dc04ce",
   "metadata": {
    "execution": {
     "iopub.execute_input": "2024-02-18T12:36:18.339716Z",
     "iopub.status.busy": "2024-02-18T12:36:18.339323Z",
     "iopub.status.idle": "2024-02-18T12:36:18.351411Z",
     "shell.execute_reply": "2024-02-18T12:36:18.350338Z"
    },
    "papermill": {
     "duration": 0.049538,
     "end_time": "2024-02-18T12:36:18.353562",
     "exception": false,
     "start_time": "2024-02-18T12:36:18.304024",
     "status": "completed"
    },
    "scrolled": false,
    "tags": []
   },
   "outputs": [],
   "source": [
    "X.head()"
   ]
  },
  {
   "cell_type": "markdown",
   "id": "7e693b01",
   "metadata": {
    "papermill": {
     "duration": 0.033488,
     "end_time": "2024-02-18T12:36:18.421108",
     "exception": false,
     "start_time": "2024-02-18T12:36:18.387620",
     "status": "completed"
    },
    "tags": []
   },
   "source": [
    "<p style = \"color: #F3CCFF;\n",
    "            font: bold 22px arial;\n",
    "            padding: 15px;\n",
    "            background-color: #111;\n",
    "            border: 3px solid violet;\n",
    "            border-radius: 8px\">\n",
    "    3]\n",
    "</p>"
   ]
  },
  {
   "cell_type": "code",
   "execution_count": null,
   "id": "13016e9d",
   "metadata": {
    "execution": {
     "iopub.execute_input": "2024-02-18T12:36:18.491447Z",
     "iopub.status.busy": "2024-02-18T12:36:18.490291Z",
     "iopub.status.idle": "2024-02-18T12:36:18.498903Z",
     "shell.execute_reply": "2024-02-18T12:36:18.497596Z"
    },
    "papermill": {
     "duration": 0.046563,
     "end_time": "2024-02-18T12:36:18.501541",
     "exception": false,
     "start_time": "2024-02-18T12:36:18.454978",
     "status": "completed"
    },
    "scrolled": false,
    "tags": []
   },
   "outputs": [],
   "source": [
    "X_train, X_test, y_train, y_test = train_test_split(X, y, test_size=0.2, random_state=90)"
   ]
  },
  {
   "cell_type": "markdown",
   "id": "0e219a07",
   "metadata": {
    "papermill": {
     "duration": 0.033763,
     "end_time": "2024-02-18T12:36:18.570770",
     "exception": false,
     "start_time": "2024-02-18T12:36:18.537007",
     "status": "completed"
    },
    "tags": []
   },
   "source": [
    "<p style = \"color: #F3CCFF;\n",
    "            font: bold 22px arial;\n",
    "            padding: 15px;\n",
    "            background-color: #111;\n",
    "            border: 3px solid violet;\n",
    "            border-radius: 8px\">\n",
    "    4] Cross Validation Score\n",
    "</p>"
   ]
  },
  {
   "cell_type": "code",
   "execution_count": null,
   "id": "78257684",
   "metadata": {
    "execution": {
     "iopub.execute_input": "2024-02-18T12:36:18.641405Z",
     "iopub.status.busy": "2024-02-18T12:36:18.640939Z",
     "iopub.status.idle": "2024-02-18T12:36:18.645763Z",
     "shell.execute_reply": "2024-02-18T12:36:18.644716Z"
    },
    "papermill": {
     "duration": 0.043155,
     "end_time": "2024-02-18T12:36:18.647872",
     "exception": false,
     "start_time": "2024-02-18T12:36:18.604717",
     "status": "completed"
    },
    "scrolled": false,
    "tags": []
   },
   "outputs": [],
   "source": [
    "kf = KFold(n_splits=10, shuffle=True, random_state=30)"
   ]
  },
  {
   "cell_type": "code",
   "execution_count": null,
   "id": "91cf920d",
   "metadata": {
    "execution": {
     "iopub.execute_input": "2024-02-18T12:36:18.718241Z",
     "iopub.status.busy": "2024-02-18T12:36:18.717800Z",
     "iopub.status.idle": "2024-02-18T12:36:18.722458Z",
     "shell.execute_reply": "2024-02-18T12:36:18.721396Z"
    },
    "papermill": {
     "duration": 0.042431,
     "end_time": "2024-02-18T12:36:18.724521",
     "exception": false,
     "start_time": "2024-02-18T12:36:18.682090",
     "status": "completed"
    },
    "scrolled": false,
    "tags": []
   },
   "outputs": [],
   "source": [
    "rf = RandomForestRegressor(n_estimators=500, random_state=11)"
   ]
  },
  {
   "cell_type": "code",
   "execution_count": null,
   "id": "2dafad0c",
   "metadata": {
    "execution": {
     "iopub.execute_input": "2024-02-18T12:36:18.796303Z",
     "iopub.status.busy": "2024-02-18T12:36:18.795522Z",
     "iopub.status.idle": "2024-02-18T12:36:29.927968Z",
     "shell.execute_reply": "2024-02-18T12:36:29.926753Z"
    },
    "papermill": {
     "duration": 11.171291,
     "end_time": "2024-02-18T12:36:29.930634",
     "exception": false,
     "start_time": "2024-02-18T12:36:18.759343",
     "status": "completed"
    },
    "scrolled": false,
    "tags": []
   },
   "outputs": [],
   "source": [
    "scores = cross_val_score(rf, X, y, cv=kf)\n",
    "print(f\"Cross Validation Score: {np.mean(scores)*100:0.2f}%\")"
   ]
  },
  {
   "cell_type": "markdown",
   "id": "2111a51a",
   "metadata": {
    "papermill": {
     "duration": 0.034049,
     "end_time": "2024-02-18T12:36:29.998811",
     "exception": false,
     "start_time": "2024-02-18T12:36:29.964762",
     "status": "completed"
    },
    "tags": []
   },
   "source": [
    "<p style = \"color: #F3CCFF;\n",
    "            font: bold 22px arial;\n",
    "            padding: 15px;\n",
    "            background-color: #111;\n",
    "            border: 3px solid violet;\n",
    "            border-radius: 8px\">\n",
    "    5]\n",
    "</p>"
   ]
  },
  {
   "cell_type": "code",
   "execution_count": null,
   "id": "52823422",
   "metadata": {
    "execution": {
     "iopub.execute_input": "2024-02-18T12:36:30.068497Z",
     "iopub.status.busy": "2024-02-18T12:36:30.068121Z",
     "iopub.status.idle": "2024-02-18T12:36:31.141580Z",
     "shell.execute_reply": "2024-02-18T12:36:31.140427Z"
    },
    "papermill": {
     "duration": 1.111457,
     "end_time": "2024-02-18T12:36:31.144269",
     "exception": false,
     "start_time": "2024-02-18T12:36:30.032812",
     "status": "completed"
    },
    "scrolled": false,
    "tags": []
   },
   "outputs": [],
   "source": [
    "rf.fit(X_train, y_train)"
   ]
  },
  {
   "cell_type": "code",
   "execution_count": null,
   "id": "e21650c4",
   "metadata": {
    "execution": {
     "iopub.execute_input": "2024-02-18T12:36:31.217128Z",
     "iopub.status.busy": "2024-02-18T12:36:31.215954Z",
     "iopub.status.idle": "2024-02-18T12:36:31.263111Z",
     "shell.execute_reply": "2024-02-18T12:36:31.261864Z"
    },
    "papermill": {
     "duration": 0.086429,
     "end_time": "2024-02-18T12:36:31.265616",
     "exception": false,
     "start_time": "2024-02-18T12:36:31.179187",
     "status": "completed"
    },
    "scrolled": false,
    "tags": []
   },
   "outputs": [],
   "source": [
    "score = rf.score(X_train, y_train)*100\n",
    "print(f\"Model Score: {np.round(score, 2)}%\")"
   ]
  },
  {
   "cell_type": "markdown",
   "id": "07669417",
   "metadata": {
    "papermill": {
     "duration": 0.033912,
     "end_time": "2024-02-18T12:36:31.334402",
     "exception": false,
     "start_time": "2024-02-18T12:36:31.300490",
     "status": "completed"
    },
    "tags": []
   },
   "source": [
    "<p style = \"color: #F3CCFF;\n",
    "            font: bold 22px arial;\n",
    "            padding: 15px;\n",
    "            background-color: #111;\n",
    "            border: 3px solid violet;\n",
    "            border-radius: 8px\">\n",
    "    6]\n",
    "</p>"
   ]
  },
  {
   "cell_type": "code",
   "execution_count": null,
   "id": "eb144eab",
   "metadata": {
    "execution": {
     "iopub.execute_input": "2024-02-18T12:36:31.405219Z",
     "iopub.status.busy": "2024-02-18T12:36:31.404595Z",
     "iopub.status.idle": "2024-02-18T12:36:31.440142Z",
     "shell.execute_reply": "2024-02-18T12:36:31.439025Z"
    },
    "papermill": {
     "duration": 0.073772,
     "end_time": "2024-02-18T12:36:31.442496",
     "exception": false,
     "start_time": "2024-02-18T12:36:31.368724",
     "status": "completed"
    },
    "scrolled": false,
    "tags": []
   },
   "outputs": [],
   "source": [
    "# It was said:\n",
    "expected_salary = np.round(rf.predict(X_test))\n",
    "# was said."
   ]
  },
  {
   "cell_type": "code",
   "execution_count": null,
   "id": "a879ee4b",
   "metadata": {
    "execution": {
     "iopub.execute_input": "2024-02-18T12:36:31.513561Z",
     "iopub.status.busy": "2024-02-18T12:36:31.512859Z",
     "iopub.status.idle": "2024-02-18T12:36:31.526136Z",
     "shell.execute_reply": "2024-02-18T12:36:31.525311Z"
    },
    "papermill": {
     "duration": 0.051172,
     "end_time": "2024-02-18T12:36:31.528233",
     "exception": false,
     "start_time": "2024-02-18T12:36:31.477061",
     "status": "completed"
    },
    "scrolled": false,
    "tags": []
   },
   "outputs": [],
   "source": [
    "# It was said:\n",
    "d = {\n",
    "    \"Actual_Salary\" : y_test,\n",
    "    \"Expected_Salary\" : expected_salary,\n",
    "    \"error\": expected_salary - y_test\n",
    "}\n",
    "expected_df = pd.DataFrame(d)\n",
    "expected_df.head()\n",
    "# was said."
   ]
  },
  {
   "cell_type": "code",
   "execution_count": null,
   "id": "5dee23da",
   "metadata": {
    "execution": {
     "iopub.execute_input": "2024-02-18T12:36:31.600467Z",
     "iopub.status.busy": "2024-02-18T12:36:31.599773Z",
     "iopub.status.idle": "2024-02-18T12:36:31.605977Z",
     "shell.execute_reply": "2024-02-18T12:36:31.604904Z"
    },
    "papermill": {
     "duration": 0.045025,
     "end_time": "2024-02-18T12:36:31.608210",
     "exception": false,
     "start_time": "2024-02-18T12:36:31.563185",
     "status": "completed"
    },
    "scrolled": false,
    "tags": []
   },
   "outputs": [],
   "source": [
    "# It was said:\n",
    "score = r2_score(y_test, expected_salary)*100\n",
    "print(f\"Model Score: {np.round(score, 2)}%\")\n",
    "# was said."
   ]
  },
  {
   "cell_type": "code",
   "execution_count": null,
   "id": "be787757",
   "metadata": {
    "execution": {
     "iopub.execute_input": "2024-02-18T12:36:31.679595Z",
     "iopub.status.busy": "2024-02-18T12:36:31.678789Z",
     "iopub.status.idle": "2024-02-18T12:36:31.686012Z",
     "shell.execute_reply": "2024-02-18T12:36:31.684497Z"
    },
    "papermill": {
     "duration": 0.045607,
     "end_time": "2024-02-18T12:36:31.688366",
     "exception": false,
     "start_time": "2024-02-18T12:36:31.642759",
     "status": "completed"
    },
    "scrolled": false,
    "tags": []
   },
   "outputs": [],
   "source": [
    "# It was said:\n",
    "rmse = np.sqrt(mean_squared_error(y_test, expected_salary))\n",
    "print(f\"Error Ratio: {rmse:.3f}\")\n",
    "# was said."
   ]
  },
  {
   "cell_type": "code",
   "execution_count": null,
   "id": "670ef7f8",
   "metadata": {
    "execution": {
     "iopub.execute_input": "2024-02-18T12:36:31.760029Z",
     "iopub.status.busy": "2024-02-18T12:36:31.759625Z",
     "iopub.status.idle": "2024-02-18T12:36:33.619349Z",
     "shell.execute_reply": "2024-02-18T12:36:33.618243Z"
    },
    "papermill": {
     "duration": 1.898519,
     "end_time": "2024-02-18T12:36:33.621817",
     "exception": false,
     "start_time": "2024-02-18T12:36:31.723298",
     "status": "completed"
    },
    "scrolled": false,
    "tags": []
   },
   "outputs": [],
   "source": [
    "# It was said:\n",
    "fig = px.scatter(\n",
    "    expected_df, \n",
    "    x = \"Actual_Salary\", \n",
    "    y = \"Expected_Salary\",\n",
    "    color = \"error\",\n",
    "    opacity=0.8,\n",
    "    title= \"Expected And Actual\",\n",
    "    template=\"plotly_dark\",\n",
    "    trendline=\"ols\"\n",
    ")\n",
    "fig.update_layout(\n",
    "    title = {\n",
    "        \"font\" :{\n",
    "            \"size\" : 28,\n",
    "            \"family\" : \"tahoma\"\n",
    "        }\n",
    "    }\n",
    ")\n",
    "iplot(fig)\n",
    "# was said."
   ]
  },
  {
   "cell_type": "markdown",
   "id": "ebc26830",
   "metadata": {
    "papermill": {
     "duration": 0.03563,
     "end_time": "2024-02-18T12:36:33.913405",
     "exception": false,
     "start_time": "2024-02-18T12:36:33.877775",
     "status": "completed"
    },
    "tags": []
   },
   "source": [
    "# GitHub Repo: <a href = \"https://github.com/abed-r-j/ML1\">Click Here To Go To GitHub Repo..</a>\n"
   ]
  }
 ],
 "metadata": {
  "kaggle": {
   "accelerator": "none",
   "dataSources": [
    {
     "datasetId": 2973025,
     "sourceId": 5119031,
     "sourceType": "datasetVersion"
    }
   ],
   "dockerImageVersionId": 30646,
   "isGpuEnabled": false,
   "isInternetEnabled": true,
   "language": "python",
   "sourceType": "notebook"
  },
  "kernelspec": {
   "display_name": "Python 3 (ipykernel)",
   "language": "python",
   "name": "python3"
  },
  "language_info": {
   "codemirror_mode": {
    "name": "ipython",
    "version": 3
   },
   "file_extension": ".py",
   "mimetype": "text/x-python",
   "name": "python",
   "nbconvert_exporter": "python",
   "pygments_lexer": "ipython3",
   "version": "3.11.5"
  },
  "papermill": {
   "default_parameters": {},
   "duration": 29.853194,
   "end_time": "2024-02-18T12:36:34.742107",
   "environment_variables": {},
   "exception": null,
   "input_path": "__notebook__.ipynb",
   "output_path": "__notebook__.ipynb",
   "parameters": {},
   "start_time": "2024-02-18T12:36:04.888913",
   "version": "2.5.0"
  }
 },
 "nbformat": 4,
 "nbformat_minor": 5
}
